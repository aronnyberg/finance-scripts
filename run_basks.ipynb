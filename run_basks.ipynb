{
  "cells": [
    {
      "cell_type": "markdown",
      "metadata": {
        "colab_type": "text",
        "id": "view-in-github"
      },
      "source": [
        "<a href=\"https://colab.research.google.com/github/aronnyberg/finance-scripts/blob/master/runBasks.ipynb\" target=\"_parent\"><img src=\"https://colab.research.google.com/assets/colab-badge.svg\" alt=\"Open In Colab\"/></a>"
      ]
    },
    {
      "cell_type": "code",
      "execution_count": 1,
      "metadata": {
        "colab": {
          "base_uri": "https://localhost:8080/"
        },
        "id": "du34DL4lMCDA",
        "outputId": "22a0149d-9e0a-4312-921c-7e0f21c86933"
      },
      "outputs": [
        {
          "name": "stdout",
          "output_type": "stream",
          "text": [
            "\u001b[33mDEPRECATION: Configuring installation scheme with distutils config files is deprecated and will no longer work in the near future. If you are using a Homebrew or Linuxbrew Python, please see discussion at https://github.com/Homebrew/homebrew-core/issues/76621\u001b[0m\u001b[33m\n",
            "\u001b[0m\u001b[33mDEPRECATION: Configuring installation scheme with distutils config files is deprecated and will no longer work in the near future. If you are using a Homebrew or Linuxbrew Python, please see discussion at https://github.com/Homebrew/homebrew-core/issues/76621\u001b[0m\u001b[33m\n",
            "\u001b[0m\u001b[33mWARNING: You are using pip version 22.0.4; however, version 22.2.2 is available.\n",
            "You should consider upgrading via the '/opt/homebrew/opt/python@3.9/bin/python3.9 -m pip install --upgrade pip' command.\u001b[0m\u001b[33m\n",
            "\u001b[0m"
          ]
        },
        {
          "ename": "ModuleNotFoundError",
          "evalue": "No module named 'gspread'",
          "output_type": "error",
          "traceback": [
            "\u001b[0;31m---------------------------------------------------------------------------\u001b[0m",
            "\u001b[0;31mModuleNotFoundError\u001b[0m                       Traceback (most recent call last)",
            "\u001b[0;32m/var/folders/jq/bnrgxd_s43d7nggw471h_rtm0000gn/T/ipykernel_1536/172942166.py\u001b[0m in \u001b[0;36m<module>\u001b[0;34m\u001b[0m\n\u001b[1;32m      4\u001b[0m \u001b[0mget_ipython\u001b[0m\u001b[0;34m(\u001b[0m\u001b[0;34m)\u001b[0m\u001b[0;34m.\u001b[0m\u001b[0msystem\u001b[0m\u001b[0;34m(\u001b[0m\u001b[0;34m'pip install --upgrade -q gspread'\u001b[0m\u001b[0;34m)\u001b[0m\u001b[0;34m\u001b[0m\u001b[0;34m\u001b[0m\u001b[0m\n\u001b[1;32m      5\u001b[0m \u001b[0;34m\u001b[0m\u001b[0m\n\u001b[0;32m----> 6\u001b[0;31m \u001b[0;32mimport\u001b[0m \u001b[0mgspread\u001b[0m\u001b[0;34m\u001b[0m\u001b[0;34m\u001b[0m\u001b[0m\n\u001b[0m\u001b[1;32m      7\u001b[0m \u001b[0;32mimport\u001b[0m \u001b[0mpandas\u001b[0m \u001b[0;32mas\u001b[0m \u001b[0mpd\u001b[0m\u001b[0;34m\u001b[0m\u001b[0;34m\u001b[0m\u001b[0m\n\u001b[1;32m      8\u001b[0m \u001b[0;32mfrom\u001b[0m \u001b[0mgoogle\u001b[0m\u001b[0;34m.\u001b[0m\u001b[0mcolab\u001b[0m \u001b[0;32mimport\u001b[0m \u001b[0mauth\u001b[0m\u001b[0;34m\u001b[0m\u001b[0;34m\u001b[0m\u001b[0m\n",
            "\u001b[0;31mModuleNotFoundError\u001b[0m: No module named 'gspread'"
          ]
        }
      ],
      "source": [
        "#necessary imports and installs for colab\n",
        "from datetime import datetime\n",
        "\n",
        "!pip install --upgrade -q gspread\n",
        "\n",
        "import gspread\n",
        "import pandas as pd\n",
        "from google.colab import auth\n",
        "from oauth2client.client import GoogleCredentials\n",
        "import time\n",
        "\n",
        "from google.colab import drive\n",
        "drive.mount('drive')\n",
        "\n",
        "auth.authenticate_user()\n",
        "gc = gspread.authorize(GoogleCredentials.get_application_default())"
      ]
    },
    {
      "cell_type": "code",
      "execution_count": null,
      "metadata": {
        "id": "MqQn0rRCMVn4"
      },
      "outputs": [
        {
          "ename": "",
          "evalue": "",
          "output_type": "error",
          "traceback": [
            "\u001b[1;31mJupyter cannot be started. Error attempting to locate jupyter: Running cells with 'Python 3.9.9 64-bit' requires notebook package.\n",
            "Run the following command to install 'jupyter and notebook' into the Python environment. \n",
            "Command: 'python -m pip install jupyter notebook -U\n",
            "or\n",
            "conda install jupyter notebook -U'\n",
            "Click <a href='https://aka.ms/installJupyterForVSCode'>here</a> for more info."
          ]
        },
        {
          "ename": "",
          "evalue": "",
          "output_type": "error",
          "traceback": [
            "\u001b[1;31mJupyter cannot be started. Error attempting to locate jupyter: Running cells with 'Python 3.9.9 64-bit' requires notebook package.\n",
            "Run the following command to install 'jupyter and notebook' into the Python environment. \n",
            "Command: 'python -m pip install jupyter notebook -U\n",
            "or\n",
            "conda install jupyter notebook -U'\n",
            "Click <a href='https://aka.ms/installJupyterForVSCode'>here</a> for more info."
          ]
        },
        {
          "ename": "",
          "evalue": "",
          "output_type": "error",
          "traceback": [
            "\u001b[1;31mJupyter cannot be started. Error attempting to locate jupyter: Running cells with 'Python 3.9.9 64-bit' requires notebook package.\n",
            "Run the following command to install 'jupyter and notebook' into the Python environment. \n",
            "Command: 'python -m pip install jupyter notebook -U\n",
            "or\n",
            "conda install jupyter notebook -U'\n",
            "Click <a href='https://aka.ms/installJupyterForVSCode'>here</a> for more info."
          ]
        },
        {
          "ename": "",
          "evalue": "",
          "output_type": "error",
          "traceback": [
            "\u001b[1;31mJupyter cannot be started. Error attempting to locate jupyter: Running cells with 'Python 3.9.9 64-bit' requires notebook package.\n",
            "Run the following command to install 'jupyter and notebook' into the Python environment. \n",
            "Command: 'python -m pip install jupyter notebook -U\n",
            "or\n",
            "conda install jupyter notebook -U'\n",
            "Click <a href='https://aka.ms/installJupyterForVSCode'>here</a> for more info."
          ]
        },
        {
          "ename": "",
          "evalue": "",
          "output_type": "error",
          "traceback": [
            "\u001b[1;31mJupyter cannot be started. Error attempting to locate jupyter: Running cells with 'Python 3.9.9 64-bit' requires notebook package.\n",
            "Run the following command to install 'jupyter and notebook' into the Python environment. \n",
            "Command: 'python -m pip install jupyter notebook -U\n",
            "or\n",
            "conda install jupyter notebook -U'\n",
            "Click <a href='https://aka.ms/installJupyterForVSCode'>here</a> for more info."
          ]
        },
        {
          "ename": "",
          "evalue": "",
          "output_type": "error",
          "traceback": [
            "\u001b[1;31mJupyter cannot be started. Error attempting to locate jupyter: Running cells with 'Python 3.9.9 64-bit' requires notebook package.\n",
            "Run the following command to install 'jupyter and notebook' into the Python environment. \n",
            "Command: 'python -m pip install jupyter notebook -U\n",
            "or\n",
            "conda install jupyter notebook -U'\n",
            "Click <a href='https://aka.ms/installJupyterForVSCode'>here</a> for more info."
          ]
        }
      ],
      "source": [
        "#grab the data you pulled from downloadBasks.ipynb, so update the name accordingly\n",
        "data = pd.read_csv('/content/drive/My Drive/basks301221.csv')"
      ]
    },
    {
      "cell_type": "code",
      "execution_count": null,
      "metadata": {
        "id": "3Xq-yYg3MoA0"
      },
      "outputs": [
        {
          "ename": "",
          "evalue": "",
          "output_type": "error",
          "traceback": [
            "\u001b[1;31mJupyter cannot be started. Error attempting to locate jupyter: Running cells with 'Python 3.9.9 64-bit' requires notebook package.\n",
            "Run the following command to install 'jupyter and notebook' into the Python environment. \n",
            "Command: 'python -m pip install jupyter notebook -U\n",
            "or\n",
            "conda install jupyter notebook -U'\n",
            "Click <a href='https://aka.ms/installJupyterForVSCode'>here</a> for more info."
          ]
        },
        {
          "ename": "",
          "evalue": "",
          "output_type": "error",
          "traceback": [
            "\u001b[1;31mJupyter cannot be started. Error attempting to locate jupyter: Running cells with 'Python 3.9.9 64-bit' requires notebook package.\n",
            "Run the following command to install 'jupyter and notebook' into the Python environment. \n",
            "Command: 'python -m pip install jupyter notebook -U\n",
            "or\n",
            "conda install jupyter notebook -U'\n",
            "Click <a href='https://aka.ms/installJupyterForVSCode'>here</a> for more info."
          ]
        },
        {
          "ename": "",
          "evalue": "",
          "output_type": "error",
          "traceback": [
            "\u001b[1;31mJupyter cannot be started. Error attempting to locate jupyter: Running cells with 'Python 3.9.9 64-bit' requires notebook package.\n",
            "Run the following command to install 'jupyter and notebook' into the Python environment. \n",
            "Command: 'python -m pip install jupyter notebook -U\n",
            "or\n",
            "conda install jupyter notebook -U'\n",
            "Click <a href='https://aka.ms/installJupyterForVSCode'>here</a> for more info."
          ]
        },
        {
          "ename": "",
          "evalue": "",
          "output_type": "error",
          "traceback": [
            "\u001b[1;31mJupyter cannot be started. Error attempting to locate jupyter: Running cells with 'Python 3.9.9 64-bit' requires notebook package.\n",
            "Run the following command to install 'jupyter and notebook' into the Python environment. \n",
            "Command: 'python -m pip install jupyter notebook -U\n",
            "or\n",
            "conda install jupyter notebook -U'\n",
            "Click <a href='https://aka.ms/installJupyterForVSCode'>here</a> for more info."
          ]
        },
        {
          "ename": "",
          "evalue": "",
          "output_type": "error",
          "traceback": [
            "\u001b[1;31mJupyter cannot be started. Error attempting to locate jupyter: Running cells with 'Python 3.9.9 64-bit' requires notebook package.\n",
            "Run the following command to install 'jupyter and notebook' into the Python environment. \n",
            "Command: 'python -m pip install jupyter notebook -U\n",
            "or\n",
            "conda install jupyter notebook -U'\n",
            "Click <a href='https://aka.ms/installJupyterForVSCode'>here</a> for more info."
          ]
        },
        {
          "ename": "",
          "evalue": "",
          "output_type": "error",
          "traceback": [
            "\u001b[1;31mJupyter cannot be started. Error attempting to locate jupyter: Running cells with 'Python 3.9.9 64-bit' requires notebook package.\n",
            "Run the following command to install 'jupyter and notebook' into the Python environment. \n",
            "Command: 'python -m pip install jupyter notebook -U\n",
            "or\n",
            "conda install jupyter notebook -U'\n",
            "Click <a href='https://aka.ms/installJupyterForVSCode'>here</a> for more info."
          ]
        }
      ],
      "source": [
        "df = pd.DataFrame(data).groupby(['asset','exchange']).ask.mean()\n",
        "df2 = df.unstack().T"
      ]
    },
    {
      "cell_type": "code",
      "execution_count": null,
      "metadata": {
        "colab": {
          "base_uri": "https://localhost:8080/"
        },
        "id": "jf1vB4wdPndz",
        "outputId": "d205dcd3-7409-428a-af95-420e76925fc8"
      },
      "outputs": [
        {
          "name": "stdout",
          "output_type": "stream",
          "text": [
            "878.1312559017941 exchange\n",
            "BINANCE     0.002787\n",
            "BITFINEX         NaN\n",
            "BITMART     0.002793\n",
            "BITSTAMP         NaN\n",
            "FTX              NaN\n",
            "GATE.IO     0.000003\n",
            "GEMINI           NaN\n",
            "KRAKEN           NaN\n",
            "PHEMEX           NaN\n",
            "Name: BTT/USDT, dtype: float64\n",
            "0.05537459283387619 exchange\n",
            "BINANCE      NaN\n",
            "BITFINEX     NaN\n",
            "BITMART     9.21\n",
            "BITSTAMP     NaN\n",
            "FTX          NaN\n",
            "GATE.IO     9.72\n",
            "GEMINI       NaN\n",
            "KRAKEN       NaN\n",
            "PHEMEX       NaN\n",
            "Name: EWT/USDT, dtype: float64\n",
            "0.13646532438478728 exchange\n",
            "BINANCE          NaN\n",
            "BITFINEX         NaN\n",
            "BITMART     0.000005\n",
            "BITSTAMP         NaN\n",
            "FTX              NaN\n",
            "GATE.IO     0.000004\n",
            "GEMINI           NaN\n",
            "KRAKEN           NaN\n",
            "PHEMEX           NaN\n",
            "Name: REEF/ETH, dtype: float64\n",
            "0.07097737452624331 exchange\n",
            "BINANCE          NaN\n",
            "BITFINEX    0.017414\n",
            "BITMART          NaN\n",
            "BITSTAMP         NaN\n",
            "FTX         0.018650\n",
            "GATE.IO          NaN\n",
            "GEMINI           NaN\n",
            "KRAKEN           NaN\n",
            "PHEMEX           NaN\n",
            "Name: REEF/USD, dtype: float64\n",
            "0.15151699029126206 exchange\n",
            "BINANCE     0.018550\n",
            "BITFINEX    0.016541\n",
            "BITMART     0.018977\n",
            "BITSTAMP         NaN\n",
            "FTX              NaN\n",
            "GATE.IO     0.016480\n",
            "GEMINI           NaN\n",
            "KRAKEN           NaN\n",
            "PHEMEX           NaN\n",
            "Name: REEF/USDT, dtype: float64\n",
            "0.05788423153692603 exchange\n",
            "BINANCE     0.04008\n",
            "BITFINEX        NaN\n",
            "BITMART         NaN\n",
            "BITSTAMP        NaN\n",
            "FTX             NaN\n",
            "GATE.IO         NaN\n",
            "GEMINI      0.04240\n",
            "KRAKEN          NaN\n",
            "PHEMEX          NaN\n",
            "Name: ZEC/ETH, dtype: float64\n"
          ]
        },
        {
          "ename": "",
          "evalue": "",
          "output_type": "error",
          "traceback": [
            "\u001b[1;31mJupyter cannot be started. Error attempting to locate jupyter: Running cells with 'Python 3.9.9 64-bit' requires notebook package.\n",
            "Run the following command to install 'jupyter and notebook' into the Python environment. \n",
            "Command: 'python -m pip install jupyter notebook -U\n",
            "or\n",
            "conda install jupyter notebook -U'\n",
            "Click <a href='https://aka.ms/installJupyterForVSCode'>here</a> for more info."
          ]
        },
        {
          "ename": "",
          "evalue": "",
          "output_type": "error",
          "traceback": [
            "\u001b[1;31mJupyter cannot be started. Error attempting to locate jupyter: Running cells with 'Python 3.9.9 64-bit' requires notebook package.\n",
            "Run the following command to install 'jupyter and notebook' into the Python environment. \n",
            "Command: 'python -m pip install jupyter notebook -U\n",
            "or\n",
            "conda install jupyter notebook -U'\n",
            "Click <a href='https://aka.ms/installJupyterForVSCode'>here</a> for more info."
          ]
        },
        {
          "ename": "",
          "evalue": "",
          "output_type": "error",
          "traceback": [
            "\u001b[1;31mJupyter cannot be started. Error attempting to locate jupyter: Running cells with 'Python 3.9.9 64-bit' requires notebook package.\n",
            "Run the following command to install 'jupyter and notebook' into the Python environment. \n",
            "Command: 'python -m pip install jupyter notebook -U\n",
            "or\n",
            "conda install jupyter notebook -U'\n",
            "Click <a href='https://aka.ms/installJupyterForVSCode'>here</a> for more info."
          ]
        },
        {
          "ename": "",
          "evalue": "",
          "output_type": "error",
          "traceback": [
            "\u001b[1;31mJupyter cannot be started. Error attempting to locate jupyter: Running cells with 'Python 3.9.9 64-bit' requires notebook package.\n",
            "Run the following command to install 'jupyter and notebook' into the Python environment. \n",
            "Command: 'python -m pip install jupyter notebook -U\n",
            "or\n",
            "conda install jupyter notebook -U'\n",
            "Click <a href='https://aka.ms/installJupyterForVSCode'>here</a> for more info."
          ]
        },
        {
          "ename": "",
          "evalue": "",
          "output_type": "error",
          "traceback": [
            "\u001b[1;31mJupyter cannot be started. Error attempting to locate jupyter: Running cells with 'Python 3.9.9 64-bit' requires notebook package.\n",
            "Run the following command to install 'jupyter and notebook' into the Python environment. \n",
            "Command: 'python -m pip install jupyter notebook -U\n",
            "or\n",
            "conda install jupyter notebook -U'\n",
            "Click <a href='https://aka.ms/installJupyterForVSCode'>here</a> for more info."
          ]
        },
        {
          "ename": "",
          "evalue": "",
          "output_type": "error",
          "traceback": [
            "\u001b[1;31mJupyter cannot be started. Error attempting to locate jupyter: Running cells with 'Python 3.9.9 64-bit' requires notebook package.\n",
            "Run the following command to install 'jupyter and notebook' into the Python environment. \n",
            "Command: 'python -m pip install jupyter notebook -U\n",
            "or\n",
            "conda install jupyter notebook -U'\n",
            "Click <a href='https://aka.ms/installJupyterForVSCode'>here</a> for more info."
          ]
        }
      ],
      "source": [
        "listofassets = []\n",
        "#df2 = df2.loc[['FTX', 'BITMART']]\n",
        "for each in df2.columns:\n",
        "  # if relative differences are bigger than 5% we want to have a look\n",
        "  try:\n",
        "    diffs = abs((df2[each].max()-df2[each].min())/df2[each].min())\n",
        "    if diffs > 0.05:\n",
        "      print(diffs, df2[each])\n",
        "      listofassets.append(each)\n",
        "  except:\n",
        "    pass"
      ]
    },
    {
      "cell_type": "code",
      "execution_count": null,
      "metadata": {
        "colab": {
          "base_uri": "https://localhost:8080/"
        },
        "id": "3GaTlAT4VAov",
        "outputId": "a09bb030-ba4c-4787-9407-92abeeeb29a8"
      },
      "outputs": [
        {
          "data": {
            "text/plain": [
              "exchange\n",
              "BINANCE      NaN\n",
              "BITFINEX     NaN\n",
              "BITMART     9.21\n",
              "BITSTAMP     NaN\n",
              "FTX          NaN\n",
              "GATE.IO     9.72\n",
              "GEMINI       NaN\n",
              "KRAKEN       NaN\n",
              "PHEMEX       NaN\n",
              "Name: EWT/USDT, dtype: float64"
            ]
          },
          "execution_count": 12,
          "metadata": {},
          "output_type": "execute_result"
        },
        {
          "ename": "",
          "evalue": "",
          "output_type": "error",
          "traceback": [
            "\u001b[1;31mJupyter cannot be started. Error attempting to locate jupyter: Running cells with 'Python 3.9.9 64-bit' requires notebook package.\n",
            "Run the following command to install 'jupyter and notebook' into the Python environment. \n",
            "Command: 'python -m pip install jupyter notebook -U\n",
            "or\n",
            "conda install jupyter notebook -U'\n",
            "Click <a href='https://aka.ms/installJupyterForVSCode'>here</a> for more info."
          ]
        },
        {
          "ename": "",
          "evalue": "",
          "output_type": "error",
          "traceback": [
            "\u001b[1;31mJupyter cannot be started. Error attempting to locate jupyter: Running cells with 'Python 3.9.9 64-bit' requires notebook package.\n",
            "Run the following command to install 'jupyter and notebook' into the Python environment. \n",
            "Command: 'python -m pip install jupyter notebook -U\n",
            "or\n",
            "conda install jupyter notebook -U'\n",
            "Click <a href='https://aka.ms/installJupyterForVSCode'>here</a> for more info."
          ]
        },
        {
          "ename": "",
          "evalue": "",
          "output_type": "error",
          "traceback": [
            "\u001b[1;31mJupyter cannot be started. Error attempting to locate jupyter: Running cells with 'Python 3.9.9 64-bit' requires notebook package.\n",
            "Run the following command to install 'jupyter and notebook' into the Python environment. \n",
            "Command: 'python -m pip install jupyter notebook -U\n",
            "or\n",
            "conda install jupyter notebook -U'\n",
            "Click <a href='https://aka.ms/installJupyterForVSCode'>here</a> for more info."
          ]
        },
        {
          "ename": "",
          "evalue": "",
          "output_type": "error",
          "traceback": [
            "\u001b[1;31mJupyter cannot be started. Error attempting to locate jupyter: Running cells with 'Python 3.9.9 64-bit' requires notebook package.\n",
            "Run the following command to install 'jupyter and notebook' into the Python environment. \n",
            "Command: 'python -m pip install jupyter notebook -U\n",
            "or\n",
            "conda install jupyter notebook -U'\n",
            "Click <a href='https://aka.ms/installJupyterForVSCode'>here</a> for more info."
          ]
        },
        {
          "ename": "",
          "evalue": "",
          "output_type": "error",
          "traceback": [
            "\u001b[1;31mJupyter cannot be started. Error attempting to locate jupyter: Running cells with 'Python 3.9.9 64-bit' requires notebook package.\n",
            "Run the following command to install 'jupyter and notebook' into the Python environment. \n",
            "Command: 'python -m pip install jupyter notebook -U\n",
            "or\n",
            "conda install jupyter notebook -U'\n",
            "Click <a href='https://aka.ms/installJupyterForVSCode'>here</a> for more info."
          ]
        },
        {
          "ename": "",
          "evalue": "",
          "output_type": "error",
          "traceback": [
            "\u001b[1;31mJupyter cannot be started. Error attempting to locate jupyter: Running cells with 'Python 3.9.9 64-bit' requires notebook package.\n",
            "Run the following command to install 'jupyter and notebook' into the Python environment. \n",
            "Command: 'python -m pip install jupyter notebook -U\n",
            "or\n",
            "conda install jupyter notebook -U'\n",
            "Click <a href='https://aka.ms/installJupyterForVSCode'>here</a> for more info."
          ]
        }
      ],
      "source": [
        "#EWT/USDT had a substantial difference, let's have a quick check on the higher/lower between exchanges\n",
        "df2['EWT/USDT']"
      ]
    },
    {
      "cell_type": "code",
      "execution_count": null,
      "metadata": {
        "colab": {
          "base_uri": "https://localhost:8080/"
        },
        "id": "QujlEU36VKhy",
        "outputId": "512be453-a81f-4148-bd5d-43c1f0032fae"
      },
      "outputs": [
        {
          "data": {
            "text/plain": [
              "exchange\n",
              "BINANCE          NaN\n",
              "BITFINEX    0.017414\n",
              "BITMART          NaN\n",
              "BITSTAMP         NaN\n",
              "FTX         0.018650\n",
              "GATE.IO          NaN\n",
              "GEMINI           NaN\n",
              "KRAKEN           NaN\n",
              "PHEMEX           NaN\n",
              "Name: REEF/USD, dtype: float64"
            ]
          },
          "execution_count": 14,
          "metadata": {},
          "output_type": "execute_result"
        },
        {
          "ename": "",
          "evalue": "",
          "output_type": "error",
          "traceback": [
            "\u001b[1;31mJupyter cannot be started. Error attempting to locate jupyter: Running cells with 'Python 3.9.9 64-bit' requires notebook package.\n",
            "Run the following command to install 'jupyter and notebook' into the Python environment. \n",
            "Command: 'python -m pip install jupyter notebook -U\n",
            "or\n",
            "conda install jupyter notebook -U'\n",
            "Click <a href='https://aka.ms/installJupyterForVSCode'>here</a> for more info."
          ]
        },
        {
          "ename": "",
          "evalue": "",
          "output_type": "error",
          "traceback": [
            "\u001b[1;31mJupyter cannot be started. Error attempting to locate jupyter: Running cells with 'Python 3.9.9 64-bit' requires notebook package.\n",
            "Run the following command to install 'jupyter and notebook' into the Python environment. \n",
            "Command: 'python -m pip install jupyter notebook -U\n",
            "or\n",
            "conda install jupyter notebook -U'\n",
            "Click <a href='https://aka.ms/installJupyterForVSCode'>here</a> for more info."
          ]
        },
        {
          "ename": "",
          "evalue": "",
          "output_type": "error",
          "traceback": [
            "\u001b[1;31mJupyter cannot be started. Error attempting to locate jupyter: Running cells with 'Python 3.9.9 64-bit' requires notebook package.\n",
            "Run the following command to install 'jupyter and notebook' into the Python environment. \n",
            "Command: 'python -m pip install jupyter notebook -U\n",
            "or\n",
            "conda install jupyter notebook -U'\n",
            "Click <a href='https://aka.ms/installJupyterForVSCode'>here</a> for more info."
          ]
        },
        {
          "ename": "",
          "evalue": "",
          "output_type": "error",
          "traceback": [
            "\u001b[1;31mJupyter cannot be started. Error attempting to locate jupyter: Running cells with 'Python 3.9.9 64-bit' requires notebook package.\n",
            "Run the following command to install 'jupyter and notebook' into the Python environment. \n",
            "Command: 'python -m pip install jupyter notebook -U\n",
            "or\n",
            "conda install jupyter notebook -U'\n",
            "Click <a href='https://aka.ms/installJupyterForVSCode'>here</a> for more info."
          ]
        },
        {
          "ename": "",
          "evalue": "",
          "output_type": "error",
          "traceback": [
            "\u001b[1;31mJupyter cannot be started. Error attempting to locate jupyter: Running cells with 'Python 3.9.9 64-bit' requires notebook package.\n",
            "Run the following command to install 'jupyter and notebook' into the Python environment. \n",
            "Command: 'python -m pip install jupyter notebook -U\n",
            "or\n",
            "conda install jupyter notebook -U'\n",
            "Click <a href='https://aka.ms/installJupyterForVSCode'>here</a> for more info."
          ]
        },
        {
          "ename": "",
          "evalue": "",
          "output_type": "error",
          "traceback": [
            "\u001b[1;31mJupyter cannot be started. Error attempting to locate jupyter: Running cells with 'Python 3.9.9 64-bit' requires notebook package.\n",
            "Run the following command to install 'jupyter and notebook' into the Python environment. \n",
            "Command: 'python -m pip install jupyter notebook -U\n",
            "or\n",
            "conda install jupyter notebook -U'\n",
            "Click <a href='https://aka.ms/installJupyterForVSCode'>here</a> for more info."
          ]
        }
      ],
      "source": [
        "#and the same for REEF/USD\n",
        "df2['REEF/USD']"
      ]
    },
    {
      "cell_type": "code",
      "execution_count": null,
      "metadata": {
        "colab": {
          "base_uri": "https://localhost:8080/"
        },
        "id": "BJ-t3HfHW0xD",
        "outputId": "5407eae5-ed9e-4479-b6f7-8f8ab009f355"
      },
      "outputs": [
        {
          "name": "stdout",
          "output_type": "stream",
          "text": [
            "Requirement already satisfied: ccxt in /usr/local/lib/python3.7/dist-packages (1.65.75)\n",
            "Requirement already satisfied: aiohttp>=3.8 in /usr/local/lib/python3.7/dist-packages (from ccxt) (3.8.1)\n",
            "Requirement already satisfied: cryptography>=2.6.1 in /usr/local/lib/python3.7/dist-packages (from ccxt) (36.0.1)\n",
            "Requirement already satisfied: setuptools>=38.5.1 in /usr/local/lib/python3.7/dist-packages (from ccxt) (57.4.0)\n",
            "Requirement already satisfied: certifi>=2018.1.18 in /usr/local/lib/python3.7/dist-packages (from ccxt) (2021.10.8)\n",
            "Requirement already satisfied: yarl==1.7.2 in /usr/local/lib/python3.7/dist-packages (from ccxt) (1.7.2)\n",
            "Requirement already satisfied: aiodns>=1.1.1 in /usr/local/lib/python3.7/dist-packages (from ccxt) (3.0.0)\n",
            "Requirement already satisfied: requests>=2.18.4 in /usr/local/lib/python3.7/dist-packages (from ccxt) (2.23.0)\n",
            "Requirement already satisfied: multidict>=4.0 in /usr/local/lib/python3.7/dist-packages (from yarl==1.7.2->ccxt) (5.2.0)\n",
            "Requirement already satisfied: idna>=2.0 in /usr/local/lib/python3.7/dist-packages (from yarl==1.7.2->ccxt) (2.10)\n",
            "Requirement already satisfied: typing-extensions>=3.7.4 in /usr/local/lib/python3.7/dist-packages (from yarl==1.7.2->ccxt) (3.10.0.2)\n",
            "Requirement already satisfied: pycares>=4.0.0 in /usr/local/lib/python3.7/dist-packages (from aiodns>=1.1.1->ccxt) (4.1.2)\n",
            "Requirement already satisfied: attrs>=17.3.0 in /usr/local/lib/python3.7/dist-packages (from aiohttp>=3.8->ccxt) (21.2.0)\n",
            "Requirement already satisfied: charset-normalizer<3.0,>=2.0 in /usr/local/lib/python3.7/dist-packages (from aiohttp>=3.8->ccxt) (2.0.8)\n",
            "Requirement already satisfied: frozenlist>=1.1.1 in /usr/local/lib/python3.7/dist-packages (from aiohttp>=3.8->ccxt) (1.2.0)\n",
            "Requirement already satisfied: asynctest==0.13.0 in /usr/local/lib/python3.7/dist-packages (from aiohttp>=3.8->ccxt) (0.13.0)\n",
            "Requirement already satisfied: async-timeout<5.0,>=4.0.0a3 in /usr/local/lib/python3.7/dist-packages (from aiohttp>=3.8->ccxt) (4.0.2)\n",
            "Requirement already satisfied: aiosignal>=1.1.2 in /usr/local/lib/python3.7/dist-packages (from aiohttp>=3.8->ccxt) (1.2.0)\n",
            "Requirement already satisfied: cffi>=1.12 in /usr/local/lib/python3.7/dist-packages (from cryptography>=2.6.1->ccxt) (1.15.0)\n",
            "Requirement already satisfied: pycparser in /usr/local/lib/python3.7/dist-packages (from cffi>=1.12->cryptography>=2.6.1->ccxt) (2.21)\n",
            "Requirement already satisfied: urllib3!=1.25.0,!=1.25.1,<1.26,>=1.21.1 in /usr/local/lib/python3.7/dist-packages (from requests>=2.18.4->ccxt) (1.24.3)\n",
            "Requirement already satisfied: chardet<4,>=3.0.2 in /usr/local/lib/python3.7/dist-packages (from requests>=2.18.4->ccxt) (3.0.4)\n"
          ]
        },
        {
          "ename": "",
          "evalue": "",
          "output_type": "error",
          "traceback": [
            "\u001b[1;31mJupyter cannot be started. Error attempting to locate jupyter: Running cells with 'Python 3.9.9 64-bit' requires notebook package.\n",
            "Run the following command to install 'jupyter and notebook' into the Python environment. \n",
            "Command: 'python -m pip install jupyter notebook -U\n",
            "or\n",
            "conda install jupyter notebook -U'\n",
            "Click <a href='https://aka.ms/installJupyterForVSCode'>here</a> for more info."
          ]
        },
        {
          "ename": "",
          "evalue": "",
          "output_type": "error",
          "traceback": [
            "\u001b[1;31mJupyter cannot be started. Error attempting to locate jupyter: Running cells with 'Python 3.9.9 64-bit' requires notebook package.\n",
            "Run the following command to install 'jupyter and notebook' into the Python environment. \n",
            "Command: 'python -m pip install jupyter notebook -U\n",
            "or\n",
            "conda install jupyter notebook -U'\n",
            "Click <a href='https://aka.ms/installJupyterForVSCode'>here</a> for more info."
          ]
        },
        {
          "ename": "",
          "evalue": "",
          "output_type": "error",
          "traceback": [
            "\u001b[1;31mJupyter cannot be started. Error attempting to locate jupyter: Running cells with 'Python 3.9.9 64-bit' requires notebook package.\n",
            "Run the following command to install 'jupyter and notebook' into the Python environment. \n",
            "Command: 'python -m pip install jupyter notebook -U\n",
            "or\n",
            "conda install jupyter notebook -U'\n",
            "Click <a href='https://aka.ms/installJupyterForVSCode'>here</a> for more info."
          ]
        },
        {
          "ename": "",
          "evalue": "",
          "output_type": "error",
          "traceback": [
            "\u001b[1;31mJupyter cannot be started. Error attempting to locate jupyter: Running cells with 'Python 3.9.9 64-bit' requires notebook package.\n",
            "Run the following command to install 'jupyter and notebook' into the Python environment. \n",
            "Command: 'python -m pip install jupyter notebook -U\n",
            "or\n",
            "conda install jupyter notebook -U'\n",
            "Click <a href='https://aka.ms/installJupyterForVSCode'>here</a> for more info."
          ]
        },
        {
          "ename": "",
          "evalue": "",
          "output_type": "error",
          "traceback": [
            "\u001b[1;31mJupyter cannot be started. Error attempting to locate jupyter: Running cells with 'Python 3.9.9 64-bit' requires notebook package.\n",
            "Run the following command to install 'jupyter and notebook' into the Python environment. \n",
            "Command: 'python -m pip install jupyter notebook -U\n",
            "or\n",
            "conda install jupyter notebook -U'\n",
            "Click <a href='https://aka.ms/installJupyterForVSCode'>here</a> for more info."
          ]
        },
        {
          "ename": "",
          "evalue": "",
          "output_type": "error",
          "traceback": [
            "\u001b[1;31mJupyter cannot be started. Error attempting to locate jupyter: Running cells with 'Python 3.9.9 64-bit' requires notebook package.\n",
            "Run the following command to install 'jupyter and notebook' into the Python environment. \n",
            "Command: 'python -m pip install jupyter notebook -U\n",
            "or\n",
            "conda install jupyter notebook -U'\n",
            "Click <a href='https://aka.ms/installJupyterForVSCode'>here</a> for more info."
          ]
        }
      ],
      "source": [
        "#To investigate these two potentil arb opportunties let's get a picture of the history of both,\n",
        "#have their respective price differentials been closer in the past?\n",
        "\n",
        "#To do this we'll need to grab data on historic 1 hour price history\n",
        "!pip install ccxt\n",
        "import ccxt\n",
        "binance = ccxt.binance () \n",
        "binance.load_markets ()\n",
        "ftx = ccxt.ftx () \n",
        "ftx.load_markets ()\n",
        "gemini = ccxt.gemini ()\n",
        "gemini.load_markets ()\n",
        "kraken = ccxt.kraken () \n",
        "kraken.load_markets ()\n",
        "bitfinex = ccxt.bitfinex ()\n",
        "bitfinex.load_markets ()\n",
        "bitstamp = ccxt.bitstamp () \n",
        "bitstamp.load_markets ()\n",
        "bitmart = ccxt.bitmart()\n",
        "bitmart.load_markets()\n",
        "gateio = ccxt.gateio()\n",
        "gateio.load_markets()\n",
        "phemex = ccxt.phemex()\n",
        "phemex.load_markets()\n",
        "\n",
        "def get_ohlcv(thepair, theexchange):\n",
        "  ohlcv = theexchange.fetch_ohlcv(thepair, '1h')\n",
        "  dates = [datetime.fromtimestamp (x[0] // 1000) for x in ohlcv]\n",
        "  data = pd.DataFrame(ohlcv, index=dates)\n",
        "  data['Asset'] = thepair\n",
        "  data['Exchange'] = str(theexchange).upper()\n",
        "  data = data.rename(columns={0:'Timestamp', 1:'Open', 2:'High', 3:'Low', 4:'Close', 5:'Volume'})\n",
        "  return data"
      ]
    },
    {
      "cell_type": "code",
      "execution_count": null,
      "metadata": {
        "id": "WWAm1hIiK1JR"
      },
      "outputs": [
        {
          "ename": "",
          "evalue": "",
          "output_type": "error",
          "traceback": [
            "\u001b[1;31mJupyter cannot be started. Error attempting to locate jupyter: Running cells with 'Python 3.9.9 64-bit' requires notebook package.\n",
            "Run the following command to install 'jupyter and notebook' into the Python environment. \n",
            "Command: 'python -m pip install jupyter notebook -U\n",
            "or\n",
            "conda install jupyter notebook -U'\n",
            "Click <a href='https://aka.ms/installJupyterForVSCode'>here</a> for more info."
          ]
        },
        {
          "ename": "",
          "evalue": "",
          "output_type": "error",
          "traceback": [
            "\u001b[1;31mJupyter cannot be started. Error attempting to locate jupyter: Running cells with 'Python 3.9.9 64-bit' requires notebook package.\n",
            "Run the following command to install 'jupyter and notebook' into the Python environment. \n",
            "Command: 'python -m pip install jupyter notebook -U\n",
            "or\n",
            "conda install jupyter notebook -U'\n",
            "Click <a href='https://aka.ms/installJupyterForVSCode'>here</a> for more info."
          ]
        },
        {
          "ename": "",
          "evalue": "",
          "output_type": "error",
          "traceback": [
            "\u001b[1;31mJupyter cannot be started. Error attempting to locate jupyter: Running cells with 'Python 3.9.9 64-bit' requires notebook package.\n",
            "Run the following command to install 'jupyter and notebook' into the Python environment. \n",
            "Command: 'python -m pip install jupyter notebook -U\n",
            "or\n",
            "conda install jupyter notebook -U'\n",
            "Click <a href='https://aka.ms/installJupyterForVSCode'>here</a> for more info."
          ]
        },
        {
          "ename": "",
          "evalue": "",
          "output_type": "error",
          "traceback": [
            "\u001b[1;31mJupyter cannot be started. Error attempting to locate jupyter: Running cells with 'Python 3.9.9 64-bit' requires notebook package.\n",
            "Run the following command to install 'jupyter and notebook' into the Python environment. \n",
            "Command: 'python -m pip install jupyter notebook -U\n",
            "or\n",
            "conda install jupyter notebook -U'\n",
            "Click <a href='https://aka.ms/installJupyterForVSCode'>here</a> for more info."
          ]
        },
        {
          "ename": "",
          "evalue": "",
          "output_type": "error",
          "traceback": [
            "\u001b[1;31mJupyter cannot be started. Error attempting to locate jupyter: Running cells with 'Python 3.9.9 64-bit' requires notebook package.\n",
            "Run the following command to install 'jupyter and notebook' into the Python environment. \n",
            "Command: 'python -m pip install jupyter notebook -U\n",
            "or\n",
            "conda install jupyter notebook -U'\n",
            "Click <a href='https://aka.ms/installJupyterForVSCode'>here</a> for more info."
          ]
        },
        {
          "ename": "",
          "evalue": "",
          "output_type": "error",
          "traceback": [
            "\u001b[1;31mJupyter cannot be started. Error attempting to locate jupyter: Running cells with 'Python 3.9.9 64-bit' requires notebook package.\n",
            "Run the following command to install 'jupyter and notebook' into the Python environment. \n",
            "Command: 'python -m pip install jupyter notebook -U\n",
            "or\n",
            "conda install jupyter notebook -U'\n",
            "Click <a href='https://aka.ms/installJupyterForVSCode'>here</a> for more info."
          ]
        }
      ],
      "source": [
        "#To investigate the differential in REEF/USD between FTX and Gate.IO we'll grab price history for both a\n",
        "# USD and USDT denominator, as most exchanges are either/or. It's a fairly safe assumption that the REEF/USDT and\n",
        "# REEF/USD on the same exchange would be very similar and so we don't need to worry to much about this indirect comparison\n",
        "#between the two exchanges\n",
        "df = pd.DataFrame()\n",
        "for ticker in ['REEF/USDT', 'REEF/USD']:\n",
        "  for exch in [ftx, gateio]:\n",
        "    try:\n",
        "      df = df.append(get_ohlcv(ticker, exch))\n",
        "    except:\n",
        "      pass\n",
        "    time.sleep(0.25)"
      ]
    },
    {
      "cell_type": "code",
      "execution_count": null,
      "metadata": {
        "id": "2LcJudE9LExx"
      },
      "outputs": [
        {
          "ename": "",
          "evalue": "",
          "output_type": "error",
          "traceback": [
            "\u001b[1;31mJupyter cannot be started. Error attempting to locate jupyter: Running cells with 'Python 3.9.9 64-bit' requires notebook package.\n",
            "Run the following command to install 'jupyter and notebook' into the Python environment. \n",
            "Command: 'python -m pip install jupyter notebook -U\n",
            "or\n",
            "conda install jupyter notebook -U'\n",
            "Click <a href='https://aka.ms/installJupyterForVSCode'>here</a> for more info."
          ]
        },
        {
          "ename": "",
          "evalue": "",
          "output_type": "error",
          "traceback": [
            "\u001b[1;31mJupyter cannot be started. Error attempting to locate jupyter: Running cells with 'Python 3.9.9 64-bit' requires notebook package.\n",
            "Run the following command to install 'jupyter and notebook' into the Python environment. \n",
            "Command: 'python -m pip install jupyter notebook -U\n",
            "or\n",
            "conda install jupyter notebook -U'\n",
            "Click <a href='https://aka.ms/installJupyterForVSCode'>here</a> for more info."
          ]
        },
        {
          "ename": "",
          "evalue": "",
          "output_type": "error",
          "traceback": [
            "\u001b[1;31mJupyter cannot be started. Error attempting to locate jupyter: Running cells with 'Python 3.9.9 64-bit' requires notebook package.\n",
            "Run the following command to install 'jupyter and notebook' into the Python environment. \n",
            "Command: 'python -m pip install jupyter notebook -U\n",
            "or\n",
            "conda install jupyter notebook -U'\n",
            "Click <a href='https://aka.ms/installJupyterForVSCode'>here</a> for more info."
          ]
        },
        {
          "ename": "",
          "evalue": "",
          "output_type": "error",
          "traceback": [
            "\u001b[1;31mJupyter cannot be started. Error attempting to locate jupyter: Running cells with 'Python 3.9.9 64-bit' requires notebook package.\n",
            "Run the following command to install 'jupyter and notebook' into the Python environment. \n",
            "Command: 'python -m pip install jupyter notebook -U\n",
            "or\n",
            "conda install jupyter notebook -U'\n",
            "Click <a href='https://aka.ms/installJupyterForVSCode'>here</a> for more info."
          ]
        },
        {
          "ename": "",
          "evalue": "",
          "output_type": "error",
          "traceback": [
            "\u001b[1;31mJupyter cannot be started. Error attempting to locate jupyter: Running cells with 'Python 3.9.9 64-bit' requires notebook package.\n",
            "Run the following command to install 'jupyter and notebook' into the Python environment. \n",
            "Command: 'python -m pip install jupyter notebook -U\n",
            "or\n",
            "conda install jupyter notebook -U'\n",
            "Click <a href='https://aka.ms/installJupyterForVSCode'>here</a> for more info."
          ]
        },
        {
          "ename": "",
          "evalue": "",
          "output_type": "error",
          "traceback": [
            "\u001b[1;31mJupyter cannot be started. Error attempting to locate jupyter: Running cells with 'Python 3.9.9 64-bit' requires notebook package.\n",
            "Run the following command to install 'jupyter and notebook' into the Python environment. \n",
            "Command: 'python -m pip install jupyter notebook -U\n",
            "or\n",
            "conda install jupyter notebook -U'\n",
            "Click <a href='https://aka.ms/installJupyterForVSCode'>here</a> for more info."
          ]
        }
      ],
      "source": [
        "df2 = df.reset_index().groupby(['Exchange', 'index']).Close.mean().unstack().T"
      ]
    },
    {
      "cell_type": "code",
      "execution_count": null,
      "metadata": {
        "colab": {
          "base_uri": "https://localhost:8080/",
          "height": 331
        },
        "id": "V3CI4hbaL2ua",
        "outputId": "0990db18-ea70-4f7e-bcc1-9be02c94270e"
      },
      "outputs": [
        {
          "data": {
            "text/plain": [
              "<matplotlib.axes._subplots.AxesSubplot at 0x7f639ed26b10>"
            ]
          },
          "execution_count": 57,
          "metadata": {},
          "output_type": "execute_result"
        },
        {
          "data": {
            "image/png": "[encoded data removed]",
            "text/plain": [
              "<Figure size 432x288 with 1 Axes>"
            ]
          },
          "metadata": {
            "needs_background": "light"
          },
          "output_type": "display_data"
        },
        {
          "ename": "",
          "evalue": "",
          "output_type": "error",
          "traceback": [
            "\u001b[1;31mJupyter cannot be started. Error attempting to locate jupyter: Running cells with 'Python 3.9.9 64-bit' requires notebook package.\n",
            "Run the following command to install 'jupyter and notebook' into the Python environment. \n",
            "Command: 'python -m pip install jupyter notebook -U\n",
            "or\n",
            "conda install jupyter notebook -U'\n",
            "Click <a href='https://aka.ms/installJupyterForVSCode'>here</a> for more info."
          ]
        },
        {
          "ename": "",
          "evalue": "",
          "output_type": "error",
          "traceback": [
            "\u001b[1;31mJupyter cannot be started. Error attempting to locate jupyter: Running cells with 'Python 3.9.9 64-bit' requires notebook package.\n",
            "Run the following command to install 'jupyter and notebook' into the Python environment. \n",
            "Command: 'python -m pip install jupyter notebook -U\n",
            "or\n",
            "conda install jupyter notebook -U'\n",
            "Click <a href='https://aka.ms/installJupyterForVSCode'>here</a> for more info."
          ]
        },
        {
          "ename": "",
          "evalue": "",
          "output_type": "error",
          "traceback": [
            "\u001b[1;31mJupyter cannot be started. Error attempting to locate jupyter: Running cells with 'Python 3.9.9 64-bit' requires notebook package.\n",
            "Run the following command to install 'jupyter and notebook' into the Python environment. \n",
            "Command: 'python -m pip install jupyter notebook -U\n",
            "or\n",
            "conda install jupyter notebook -U'\n",
            "Click <a href='https://aka.ms/installJupyterForVSCode'>here</a> for more info."
          ]
        },
        {
          "ename": "",
          "evalue": "",
          "output_type": "error",
          "traceback": [
            "\u001b[1;31mJupyter cannot be started. Error attempting to locate jupyter: Running cells with 'Python 3.9.9 64-bit' requires notebook package.\n",
            "Run the following command to install 'jupyter and notebook' into the Python environment. \n",
            "Command: 'python -m pip install jupyter notebook -U\n",
            "or\n",
            "conda install jupyter notebook -U'\n",
            "Click <a href='https://aka.ms/installJupyterForVSCode'>here</a> for more info."
          ]
        },
        {
          "ename": "",
          "evalue": "",
          "output_type": "error",
          "traceback": [
            "\u001b[1;31mJupyter cannot be started. Error attempting to locate jupyter: Running cells with 'Python 3.9.9 64-bit' requires notebook package.\n",
            "Run the following command to install 'jupyter and notebook' into the Python environment. \n",
            "Command: 'python -m pip install jupyter notebook -U\n",
            "or\n",
            "conda install jupyter notebook -U'\n",
            "Click <a href='https://aka.ms/installJupyterForVSCode'>here</a> for more info."
          ]
        },
        {
          "ename": "",
          "evalue": "",
          "output_type": "error",
          "traceback": [
            "\u001b[1;31mJupyter cannot be started. Error attempting to locate jupyter: Running cells with 'Python 3.9.9 64-bit' requires notebook package.\n",
            "Run the following command to install 'jupyter and notebook' into the Python environment. \n",
            "Command: 'python -m pip install jupyter notebook -U\n",
            "or\n",
            "conda install jupyter notebook -U'\n",
            "Click <a href='https://aka.ms/installJupyterForVSCode'>here</a> for more info."
          ]
        }
      ],
      "source": [
        "#Looks like the differential is only recent and their is an there, at least for a time-horizon measured in weeks.\n",
        "df2.plot()"
      ]
    },
    {
      "cell_type": "code",
      "execution_count": null,
      "metadata": {
        "colab": {
          "base_uri": "https://localhost:8080/",
          "height": 331
        },
        "id": "z5emYRfrL43W",
        "outputId": "46bebe7a-f3f0-49da-d3d8-638aabbb3d38"
      },
      "outputs": [
        {
          "data": {
            "text/plain": [
              "<matplotlib.axes._subplots.AxesSubplot at 0x7f639dbab190>"
            ]
          },
          "execution_count": 53,
          "metadata": {},
          "output_type": "execute_result"
        },
        {
          "data": {
            "image/png": "[encoded data removed]",
            "text/plain": [
              "<Figure size 432x288 with 1 Axes>"
            ]
          },
          "metadata": {
            "needs_background": "light"
          },
          "output_type": "display_data"
        },
        {
          "ename": "",
          "evalue": "",
          "output_type": "error",
          "traceback": [
            "\u001b[1;31mJupyter cannot be started. Error attempting to locate jupyter: Running cells with 'Python 3.9.9 64-bit' requires notebook package.\n",
            "Run the following command to install 'jupyter and notebook' into the Python environment. \n",
            "Command: 'python -m pip install jupyter notebook -U\n",
            "or\n",
            "conda install jupyter notebook -U'\n",
            "Click <a href='https://aka.ms/installJupyterForVSCode'>here</a> for more info."
          ]
        },
        {
          "ename": "",
          "evalue": "",
          "output_type": "error",
          "traceback": [
            "\u001b[1;31mJupyter cannot be started. Error attempting to locate jupyter: Running cells with 'Python 3.9.9 64-bit' requires notebook package.\n",
            "Run the following command to install 'jupyter and notebook' into the Python environment. \n",
            "Command: 'python -m pip install jupyter notebook -U\n",
            "or\n",
            "conda install jupyter notebook -U'\n",
            "Click <a href='https://aka.ms/installJupyterForVSCode'>here</a> for more info."
          ]
        },
        {
          "ename": "",
          "evalue": "",
          "output_type": "error",
          "traceback": [
            "\u001b[1;31mJupyter cannot be started. Error attempting to locate jupyter: Running cells with 'Python 3.9.9 64-bit' requires notebook package.\n",
            "Run the following command to install 'jupyter and notebook' into the Python environment. \n",
            "Command: 'python -m pip install jupyter notebook -U\n",
            "or\n",
            "conda install jupyter notebook -U'\n",
            "Click <a href='https://aka.ms/installJupyterForVSCode'>here</a> for more info."
          ]
        },
        {
          "ename": "",
          "evalue": "",
          "output_type": "error",
          "traceback": [
            "\u001b[1;31mJupyter cannot be started. Error attempting to locate jupyter: Running cells with 'Python 3.9.9 64-bit' requires notebook package.\n",
            "Run the following command to install 'jupyter and notebook' into the Python environment. \n",
            "Command: 'python -m pip install jupyter notebook -U\n",
            "or\n",
            "conda install jupyter notebook -U'\n",
            "Click <a href='https://aka.ms/installJupyterForVSCode'>here</a> for more info."
          ]
        },
        {
          "ename": "",
          "evalue": "",
          "output_type": "error",
          "traceback": [
            "\u001b[1;31mJupyter cannot be started. Error attempting to locate jupyter: Running cells with 'Python 3.9.9 64-bit' requires notebook package.\n",
            "Run the following command to install 'jupyter and notebook' into the Python environment. \n",
            "Command: 'python -m pip install jupyter notebook -U\n",
            "or\n",
            "conda install jupyter notebook -U'\n",
            "Click <a href='https://aka.ms/installJupyterForVSCode'>here</a> for more info."
          ]
        },
        {
          "ename": "",
          "evalue": "",
          "output_type": "error",
          "traceback": [
            "\u001b[1;31mJupyter cannot be started. Error attempting to locate jupyter: Running cells with 'Python 3.9.9 64-bit' requires notebook package.\n",
            "Run the following command to install 'jupyter and notebook' into the Python environment. \n",
            "Command: 'python -m pip install jupyter notebook -U\n",
            "or\n",
            "conda install jupyter notebook -U'\n",
            "Click <a href='https://aka.ms/installJupyterForVSCode'>here</a> for more info."
          ]
        }
      ],
      "source": [
        "df2.plot()"
      ]
    },
    {
      "cell_type": "code",
      "execution_count": null,
      "metadata": {
        "id": "yFoiPVS3POqH"
      },
      "outputs": [
        {
          "ename": "",
          "evalue": "",
          "output_type": "error",
          "traceback": [
            "\u001b[1;31mJupyter cannot be started. Error attempting to locate jupyter: Running cells with 'Python 3.9.9 64-bit' requires notebook package.\n",
            "Run the following command to install 'jupyter and notebook' into the Python environment. \n",
            "Command: 'python -m pip install jupyter notebook -U\n",
            "or\n",
            "conda install jupyter notebook -U'\n",
            "Click <a href='https://aka.ms/installJupyterForVSCode'>here</a> for more info."
          ]
        },
        {
          "ename": "",
          "evalue": "",
          "output_type": "error",
          "traceback": [
            "\u001b[1;31mJupyter cannot be started. Error attempting to locate jupyter: Running cells with 'Python 3.9.9 64-bit' requires notebook package.\n",
            "Run the following command to install 'jupyter and notebook' into the Python environment. \n",
            "Command: 'python -m pip install jupyter notebook -U\n",
            "or\n",
            "conda install jupyter notebook -U'\n",
            "Click <a href='https://aka.ms/installJupyterForVSCode'>here</a> for more info."
          ]
        },
        {
          "ename": "",
          "evalue": "",
          "output_type": "error",
          "traceback": [
            "\u001b[1;31mJupyter cannot be started. Error attempting to locate jupyter: Running cells with 'Python 3.9.9 64-bit' requires notebook package.\n",
            "Run the following command to install 'jupyter and notebook' into the Python environment. \n",
            "Command: 'python -m pip install jupyter notebook -U\n",
            "or\n",
            "conda install jupyter notebook -U'\n",
            "Click <a href='https://aka.ms/installJupyterForVSCode'>here</a> for more info."
          ]
        },
        {
          "ename": "",
          "evalue": "",
          "output_type": "error",
          "traceback": [
            "\u001b[1;31mJupyter cannot be started. Error attempting to locate jupyter: Running cells with 'Python 3.9.9 64-bit' requires notebook package.\n",
            "Run the following command to install 'jupyter and notebook' into the Python environment. \n",
            "Command: 'python -m pip install jupyter notebook -U\n",
            "or\n",
            "conda install jupyter notebook -U'\n",
            "Click <a href='https://aka.ms/installJupyterForVSCode'>here</a> for more info."
          ]
        },
        {
          "ename": "",
          "evalue": "",
          "output_type": "error",
          "traceback": [
            "\u001b[1;31mJupyter cannot be started. Error attempting to locate jupyter: Running cells with 'Python 3.9.9 64-bit' requires notebook package.\n",
            "Run the following command to install 'jupyter and notebook' into the Python environment. \n",
            "Command: 'python -m pip install jupyter notebook -U\n",
            "or\n",
            "conda install jupyter notebook -U'\n",
            "Click <a href='https://aka.ms/installJupyterForVSCode'>here</a> for more info."
          ]
        },
        {
          "ename": "",
          "evalue": "",
          "output_type": "error",
          "traceback": [
            "\u001b[1;31mJupyter cannot be started. Error attempting to locate jupyter: Running cells with 'Python 3.9.9 64-bit' requires notebook package.\n",
            "Run the following command to install 'jupyter and notebook' into the Python environment. \n",
            "Command: 'python -m pip install jupyter notebook -U\n",
            "or\n",
            "conda install jupyter notebook -U'\n",
            "Click <a href='https://aka.ms/installJupyterForVSCode'>here</a> for more info."
          ]
        }
      ],
      "source": []
    }
  ],
  "metadata": {
    "colab": {
      "authorship_tag": "ABX9TyP4/yruC6cPtYbps0H75Kvj",
      "include_colab_link": true,
      "name": "runBasks.ipynb",
      "provenance": []
    },
    "interpreter": {
      "hash": "31f2aee4e71d21fbe5cf8b01ff0e069b9275f58929596ceb00d14d90e3e16cd6"
    },
    "kernelspec": {
      "display_name": "Python 3.8.9 64-bit",
      "language": "python",
      "name": "python3"
    },
    "language_info": {
      "codemirror_mode": {
        "name": "ipython",
        "version": 3
      },
      "file_extension": ".py",
      "mimetype": "text/x-python",
      "name": "python",
      "nbconvert_exporter": "python",
      "pygments_lexer": "ipython3",
      "version": "3.8.9"
    }
  },
  "nbformat": 4,
  "nbformat_minor": 0
}
